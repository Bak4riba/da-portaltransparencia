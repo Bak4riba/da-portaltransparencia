{
  "nbformat": 4,
  "nbformat_minor": 0,
  "metadata": {
    "colab": {
      "provenance": [],
      "mount_file_id": "167XFR3-_DugDYNfw1B-ML6be3i_3H3rq",
      "authorship_tag": "ABX9TyMAz5qnbYR497GmOO6u4CTz"
    },
    "kernelspec": {
      "name": "python3",
      "display_name": "Python 3"
    },
    "language_info": {
      "name": "python"
    }
  },
  "cells": [
    {
      "cell_type": "markdown",
      "source": [
        "#Analise Portal da Transparencia com python - Projeto Asimov\n",
        "<hr>"
      ],
      "metadata": {
        "id": "BSoZvAnUVzvm"
      }
    },
    {
      "cell_type": "markdown",
      "source": [
        "**Proposta**: Realizar uma análise de dados disponiveis no portal da transparencia utilizando o curso gratuito doa Asimov Academy.\n",
        "\n",
        "<hr>\n"
      ],
      "metadata": {
        "id": "edaDYOPiXI6n"
      }
    },
    {
      "cell_type": "code",
      "source": [
        "#Caminho dos dados\n",
        "caminho = \"/content/drive/MyDrive/AD/2024_Viagem.csv\""
      ],
      "metadata": {
        "id": "btnG2pbQXvxe"
      },
      "execution_count": null,
      "outputs": []
    },
    {
      "cell_type": "code",
      "execution_count": null,
      "metadata": {
        "id": "e9e7YhzuVs5V"
      },
      "outputs": [],
      "source": [
        "import pandas as pd\n",
        "\n",
        "pd.set_option('display.max_columns', None)\n",
        "#Lendo dados\n",
        "df_viagens = pd.read_csv(caminho, encoding='Windows-1252', sep = ';', decimal = ',')\n",
        "\n",
        "#Criando coluna despesas\n",
        "df_viagens['Despesas'] = df_viagens['Valor passagens'] + df_viagens['Valor diárias'] + df_viagens['Valor outros gastos']"
      ]
    }
  ]
}